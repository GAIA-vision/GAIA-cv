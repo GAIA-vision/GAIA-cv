{
 "cells": [
  {
   "cell_type": "code",
   "execution_count": 1,
   "metadata": {},
   "outputs": [],
   "source": [
    "import pandas as pd\n",
    "from label_pool import LabelPool\n",
    "from label_mapping import LabelMapping"
   ]
  },
  {
   "cell_type": "code",
   "execution_count": 2,
   "metadata": {},
   "outputs": [],
   "source": [
    "uni = LabelPool.load('label_hubs/uni.csv')\n",
    "datasets = ['coco', 'object365', 'openimages', 'oid600']\n",
    "lms = {}\n",
    "for dname in datasets:\n",
    "    lms[dname] = LabelMapping.load(f'label_hubs/{dname}.csv')\n",
    "for d in lms.values():\n",
    "    uni.add_label_mapping(d)\n",
    "uni.to_csv('complete_uni.csv')"
   ]
  },
  {
   "cell_type": "code",
   "execution_count": 2,
   "metadata": {},
   "outputs": [],
   "source": [
    "cuni = LabelPool.load('complete_uni.csv')"
   ]
  },
  {
   "cell_type": "code",
   "execution_count": null,
   "metadata": {},
   "outputs": [],
   "source": [
    "cuni"
   ]
  },
  {
   "cell_type": "code",
   "execution_count": 3,
   "metadata": {},
   "outputs": [],
   "source": [
    "v3 = pd.read_csv('label_hubs/v3.csv')\n",
    "uni = v3[['uni.label', 'uni.name']]\n",
    "uni = uni.dropna().drop_duplicates()\n",
    "uni = uni.rename(columns={'uni.label':'label', 'uni.name':'name'})\n",
    "uni = uni.sort_values(by='label')\n",
    "uni.to_csv('label_hubs/uni.csv', index=False)\n"
   ]
  },
  {
   "cell_type": "code",
   "execution_count": 46,
   "metadata": {},
   "outputs": [
    {
     "data": {
      "text/html": [
       "<div>\n",
       "<style scoped>\n",
       "    .dataframe tbody tr th:only-of-type {\n",
       "        vertical-align: middle;\n",
       "    }\n",
       "\n",
       "    .dataframe tbody tr th {\n",
       "        vertical-align: top;\n",
       "    }\n",
       "\n",
       "    .dataframe thead th {\n",
       "        text-align: right;\n",
       "    }\n",
       "</style>\n",
       "<table border=\"1\" class=\"dataframe\">\n",
       "  <thead>\n",
       "    <tr style=\"text-align: right;\">\n",
       "      <th></th>\n",
       "      <th>label</th>\n",
       "      <th>name</th>\n",
       "    </tr>\n",
       "  </thead>\n",
       "  <tbody>\n",
       "    <tr>\n",
       "      <th>0</th>\n",
       "      <td>0</td>\n",
       "      <td>accordion</td>\n",
       "    </tr>\n",
       "    <tr>\n",
       "      <th>1</th>\n",
       "      <td>1</td>\n",
       "      <td>adhesive tape</td>\n",
       "    </tr>\n",
       "    <tr>\n",
       "      <th>2</th>\n",
       "      <td>2</td>\n",
       "      <td>air conditioner</td>\n",
       "    </tr>\n",
       "    <tr>\n",
       "      <th>3</th>\n",
       "      <td>3</td>\n",
       "      <td>airplane</td>\n",
       "    </tr>\n",
       "    <tr>\n",
       "      <th>4</th>\n",
       "      <td>4</td>\n",
       "      <td>alarm clock</td>\n",
       "    </tr>\n",
       "    <tr>\n",
       "      <th>...</th>\n",
       "      <td>...</td>\n",
       "      <td>...</td>\n",
       "    </tr>\n",
       "    <tr>\n",
       "      <th>781</th>\n",
       "      <td>773</td>\n",
       "      <td>isopod</td>\n",
       "    </tr>\n",
       "    <tr>\n",
       "      <th>782</th>\n",
       "      <td>774</td>\n",
       "      <td>scorpion</td>\n",
       "    </tr>\n",
       "    <tr>\n",
       "      <th>783</th>\n",
       "      <td>775</td>\n",
       "      <td>grinder</td>\n",
       "    </tr>\n",
       "    <tr>\n",
       "      <th>784</th>\n",
       "      <td>776</td>\n",
       "      <td>submarine</td>\n",
       "    </tr>\n",
       "    <tr>\n",
       "      <th>785</th>\n",
       "      <td>777</td>\n",
       "      <td>hand dryer</td>\n",
       "    </tr>\n",
       "  </tbody>\n",
       "</table>\n",
       "<p>778 rows × 2 columns</p>\n",
       "</div>"
      ],
      "text/plain": [
       "     label             name\n",
       "0        0        accordion\n",
       "1        1    adhesive tape\n",
       "2        2  air conditioner\n",
       "3        3         airplane\n",
       "4        4      alarm clock\n",
       "..     ...              ...\n",
       "781    773           isopod\n",
       "782    774         scorpion\n",
       "783    775          grinder\n",
       "784    776        submarine\n",
       "785    777       hand dryer\n",
       "\n",
       "[778 rows x 2 columns]"
      ]
     },
     "execution_count": 46,
     "metadata": {},
     "output_type": "execute_result"
    }
   ],
   "source": [
    "uni"
   ]
  },
  {
   "cell_type": "code",
   "execution_count": 32,
   "metadata": {},
   "outputs": [],
   "source": [
    "# convert lp of each datasets\n",
    "v3 = pd.read_csv('label_hubs/v3.csv')\n",
    "datasets = ['coco', 'object365', 'openimages', 'oid600']\n",
    "for dname in datasets:\n",
    "    lname, nname = f'{dname}.label', f'{dname}.name'\n",
    "    sel_df = v3[[lname, nname]].dropna().drop_duplicates()\n",
    "    sel_df = v3.iloc[sel_df.index][[lname, nname, 'uni.label']]\n",
    "    sel_df = sel_df.rename(columns={lname: 'label', nname:'name', 'uni.label':'uni'})\n",
    "    sel_df = sel_df.sort_values(by=['label'])\n",
    "    sel_df.to_csv(f'label_hubs/{dname}.csv', index=False, float_format='%.f')"
   ]
  },
  {
   "cell_type": "code",
   "execution_count": 10,
   "metadata": {},
   "outputs": [],
   "source": [
    "class BCMixin(object):\n",
    "    def get_subclass_ss(self):\n",
    "        return self.__class__.ss\n",
    "    def get_a(self):\n",
    "        return self.a\n",
    "    \n",
    "class SS(BCMixin):\n",
    "    ss = [1,2,3]\n",
    "    def __init__(self, a):\n",
    "        self.a = a\n",
    "        \n",
    "class SS2(SS):\n",
    "    def __init__(self, a,b):\n",
    "        super(SS2, self).__init__(a)\n",
    "        self.b = b"
   ]
  },
  {
   "cell_type": "code",
   "execution_count": 11,
   "metadata": {},
   "outputs": [
    {
     "name": "stdout",
     "output_type": "stream",
     "text": [
      "[1, 2, 3]\n",
      "1\n"
     ]
    },
    {
     "data": {
      "text/plain": [
       "dict_keys(['__module__', 'ss', '__init__', '__doc__'])"
      ]
     },
     "execution_count": 11,
     "metadata": {},
     "output_type": "execute_result"
    }
   ],
   "source": [
    "ss = SS2(1,2)\n",
    "print(ss.get_subclass_ss())\n",
    "print(ss.get_a())\n",
    "ss.__class__.__name__\n",
    "SS.__dict__.keys()"
   ]
  },
  {
   "cell_type": "code",
   "execution_count": 13,
   "metadata": {},
   "outputs": [
    {
     "name": "stdout",
     "output_type": "stream",
     "text": [
      "[(1, 10), (2, 20), (3, 30)]\n"
     ]
    }
   ],
   "source": [
    "a = {'width': [1,2,3], 'depth': [10, 20, 30]}\n",
    "print(list(zip(*a.values())))"
   ]
  },
  {
   "cell_type": "code",
   "execution_count": 29,
   "metadata": {},
   "outputs": [
    {
     "data": {
      "text/plain": [
       "999"
      ]
     },
     "execution_count": 29,
     "metadata": {},
     "output_type": "execute_result"
    }
   ],
   "source": [
    "setattr(ss, 'z', 999)\n",
    "ss.z"
   ]
  }
 ],
 "metadata": {
  "kernelspec": {
   "display_name": "TensorFlow-2.1.0",
   "language": "python",
   "name": "tensorflow-2.1.0"
  },
  "language_info": {
   "codemirror_mode": {
    "name": "ipython",
    "version": 3
   },
   "file_extension": ".py",
   "mimetype": "text/x-python",
   "name": "python",
   "nbconvert_exporter": "python",
   "pygments_lexer": "ipython3",
   "version": "3.6.4"
  }
 },
 "nbformat": 4,
 "nbformat_minor": 4
}
