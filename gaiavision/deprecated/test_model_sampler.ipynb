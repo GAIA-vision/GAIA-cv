{
 "cells": [
  {
   "cell_type": "code",
   "execution_count": 8,
   "metadata": {},
   "outputs": [],
   "source": [
    "import sys\n",
    "sys.path.insert(0, '/home/ma-user/work/pengjunran/workspace/GAIA_workspace/gaiavision/gaiavision')\n",
    "\n",
    "import pandas as pd\n",
    "\n",
    "from model_space.utils import fold_dict, unfold_dict\n",
    "from model_space.model_samplers.builder import build_model_sampler\n",
    "from model_space.model_samplers.random_model_sampler import RangeModelSampler, CandidateModelSampler\n",
    "from model_space.model_samplers.functional_model_sampler import CompositeModelSampler, RepeatModelSampler, ConcatModelSampler, AnchorModelSampler\n",
    "from model_space.model_space_manager import ModelSpaceManager"
   ]
  },
  {
   "cell_type": "code",
   "execution_count": 9,
   "metadata": {},
   "outputs": [],
   "source": [
    "sw_ms = RangeModelSampler('arch.backbone.stem.width', 16, 32, 16, ascending=True)\n",
    "bw_ms = RangeModelSampler('arch.backbone.body.width', [16,32,64], [32,64,128], [16,32,64], ascending=True)\n",
    "bd_ms = RangeModelSampler('arch.backbone.body.depth', [2,4,2], [4,8,4], [1,2,1])\n",
    "di_ms = CandidateModelSampler('data.input_shape', candidates=[480, 640])\n",
    "\n",
    "ac_ms = AnchorModelSampler(anchors=[\n",
    "    {'name': 'MAX', 'arch.backbone.stem.width': 32, 'arch.backbone.body.width': [32,64,128], 'arch.backbone.body.depth': [4,8,4]},\n",
    "    {'name': 'MIN', 'arch.backbone.stem.width': 16, 'arch.backbone.body.width': [16,32,64], 'arch.backbone.body.depth': [2,4,2]}\n",
    "])\n",
    "cps_ms = CompositeModelSampler([di_ms, sw_ms, bw_ms, bd_ms])\n",
    "rp_ms = RepeatModelSampler(cps_ms, times=3)\n",
    "cc_ms = ConcatModelSampler([ac_ms, rp_ms])"
   ]
  },
  {
   "cell_type": "code",
   "execution_count": null,
   "metadata": {},
   "outputs": [],
   "source": [
    "cc_ms.set_mode('traverse')\n",
    "for mm in cc_ms.traverse():\n",
    "    print(mm)"
   ]
  },
  {
   "cell_type": "code",
   "execution_count": 10,
   "metadata": {},
   "outputs": [
    {
     "name": "stdout",
     "output_type": "stream",
     "text": [
      "[{'arch.backbone.stem.width': 32, 'arch.backbone.body.width': [32, 64, 128], 'arch.backbone.body.depth': [4, 8, 4]}, {'arch.backbone.stem.width': 16, 'arch.backbone.body.width': [16, 32, 64], 'arch.backbone.body.depth': [2, 4, 2]}, {'data.input_shape': 640, 'arch.backbone.stem.width': 32, 'arch.backbone.body.width': [16, 32, 128], 'arch.backbone.body.depth': [3, 8, 3]}, {'data.input_shape': 480, 'arch.backbone.stem.width': 32, 'arch.backbone.body.width': [32, 64, 128], 'arch.backbone.body.depth': [3, 8, 3]}, {'data.input_shape': 640, 'arch.backbone.stem.width': 32, 'arch.backbone.body.width': [16, 64, 128], 'arch.backbone.body.depth': [4, 6, 3]}]\n"
     ]
    }
   ],
   "source": [
    "# archs = []\n",
    "# for _ in range(len(cc_ms)):\n",
    "#     archs.append(cc_ms.sample())\n",
    "# print(archs)"
   ]
  },
  {
   "cell_type": "code",
   "execution_count": 4,
   "metadata": {},
   "outputs": [
    {
     "name": "stderr",
     "output_type": "stream",
     "text": [
      "/home/ma-user/work/pengjunran/workspace/GAIA_workspace/gaiavision/gaiavision/model_space/model_space_manager.py:37: UserWarning: Lacking information of `performance`\n",
      "  warnings.warn(f'Lacking information of `{k}`')\n",
      "/home/ma-user/work/pengjunran/workspace/GAIA_workspace/gaiavision/gaiavision/model_space/model_space_manager.py:37: UserWarning: Lacking information of `metric`\n",
      "  warnings.warn(f'Lacking information of `{k}`')\n",
      "/home/ma-user/work/pengjunran/workspace/GAIA_workspace/gaiavision/gaiavision/model_space/model_space_manager.py:37: UserWarning: Lacking information of `data`\n",
      "  warnings.warn(f'Lacking information of `{k}`')\n"
     ]
    },
    {
     "data": {
      "text/html": [
       "<div>\n",
       "<style scoped>\n",
       "    .dataframe tbody tr th:only-of-type {\n",
       "        vertical-align: middle;\n",
       "    }\n",
       "\n",
       "    .dataframe tbody tr th {\n",
       "        vertical-align: top;\n",
       "    }\n",
       "\n",
       "    .dataframe thead th {\n",
       "        text-align: right;\n",
       "    }\n",
       "</style>\n",
       "<table border=\"1\" class=\"dataframe\">\n",
       "  <thead>\n",
       "    <tr style=\"text-align: right;\">\n",
       "      <th></th>\n",
       "      <th>arch.backbone.stem.width</th>\n",
       "      <th>arch.backbone.body.width</th>\n",
       "      <th>arch.backbone.body.depth</th>\n",
       "    </tr>\n",
       "  </thead>\n",
       "  <tbody>\n",
       "    <tr>\n",
       "      <th>0</th>\n",
       "      <td>32</td>\n",
       "      <td>(32, 64, 128)</td>\n",
       "      <td>(4, 8, 4)</td>\n",
       "    </tr>\n",
       "    <tr>\n",
       "      <th>1</th>\n",
       "      <td>16</td>\n",
       "      <td>(16, 32, 64)</td>\n",
       "      <td>(2, 4, 2)</td>\n",
       "    </tr>\n",
       "    <tr>\n",
       "      <th>2</th>\n",
       "      <td>32</td>\n",
       "      <td>(16, 32, 128)</td>\n",
       "      <td>(2, 6, 4)</td>\n",
       "    </tr>\n",
       "    <tr>\n",
       "      <th>3</th>\n",
       "      <td>32</td>\n",
       "      <td>(16, 32, 128)</td>\n",
       "      <td>(4, 4, 2)</td>\n",
       "    </tr>\n",
       "    <tr>\n",
       "      <th>4</th>\n",
       "      <td>32</td>\n",
       "      <td>(32, 32, 64)</td>\n",
       "      <td>(2, 6, 3)</td>\n",
       "    </tr>\n",
       "  </tbody>\n",
       "</table>\n",
       "</div>"
      ],
      "text/plain": [
       "   arch.backbone.stem.width arch.backbone.body.width arch.backbone.body.depth\n",
       "0                        32            (32, 64, 128)                (4, 8, 4)\n",
       "1                        16             (16, 32, 64)                (2, 4, 2)\n",
       "2                        32            (16, 32, 128)                (2, 6, 4)\n",
       "3                        32            (16, 32, 128)                (4, 4, 2)\n",
       "4                        32             (32, 32, 64)                (2, 6, 3)"
      ]
     },
     "execution_count": 4,
     "metadata": {},
     "output_type": "execute_result"
    }
   ],
   "source": [
    "ms = ModelSpaceManager.load(archs)\n",
    "ms.head()"
   ]
  },
  {
   "cell_type": "code",
   "execution_count": 13,
   "metadata": {},
   "outputs": [
    {
     "data": {
      "text/plain": [
       "True"
      ]
     },
     "execution_count": 13,
     "metadata": {},
     "output_type": "execute_result"
    }
   ],
   "source": [
    "s = set([True, False])\n",
    "any(s)"
   ]
  },
  {
   "cell_type": "code",
   "execution_count": 5,
   "metadata": {},
   "outputs": [
    {
     "data": {
      "text/plain": [
       "{'arch': {'backbone': {'body': {'depth': (4, 6, 4), 'width': (32, 32, 64)},\n",
       "   'stem': {'width': 16}}}}"
      ]
     },
     "execution_count": 5,
     "metadata": {},
     "output_type": "execute_result"
    }
   ],
   "source": [
    "cps_ms.set_mode('traverse')\n",
    "d = cps_ms.sample()\n",
    "fold_dict(d)"
   ]
  },
  {
   "cell_type": "code",
   "execution_count": null,
   "metadata": {},
   "outputs": [],
   "source": [
    "list(cps_ms.traverse())"
   ]
  },
  {
   "cell_type": "code",
   "execution_count": 16,
   "metadata": {},
   "outputs": [
    {
     "name": "stderr",
     "output_type": "stream",
     "text": [
      "379080it [00:05, 67753.35it/s]\n"
     ]
    }
   ],
   "source": [
    "import json\n",
    "from tqdm import tqdm\n",
    "fin = open('/home/ma-user/work/pengjunran/workspace/GAIA_workspace/gaiadet/hubs/flops/old_ar50to101v2_flops.json', 'r')\n",
    "fout = open('/home/ma-user/work/pengjunran/workspace/GAIA_workspace/gaiadet/hubs/flops/ar50to101v2_flops.json', 'w')\n",
    "for l in tqdm(fin):\n",
    "    d = json.loads(l.strip())\n",
    "    input_shape = d['input_shape']\n",
    "    overhead = {'flops':d['flops'], 'params': d['params']}\n",
    "    sw = d['arch']['stem_width']\n",
    "    bw = d['arch']['body_widths']\n",
    "    bd = d['arch']['body_depths']\n",
    "    arch = {'backbone':{'stem': {'width': sw}, 'body': {'width':bw, 'depth':bd}}}\n",
    "    dout = {'data': {'input_shape': input_shape}, 'overhead': overhead, 'arch': arch}\n",
    "    fout.write(json.dumps(dout)+'\\n')\n",
    "    "
   ]
  },
  {
   "cell_type": "code",
   "execution_count": 12,
   "metadata": {},
   "outputs": [
    {
     "name": "stderr",
     "output_type": "stream",
     "text": [
      "/home/ma-user/work/pengjunran/workspace/GAIA_workspace/gaiavision/gaiavision/model_space/model_space_manager.py:16: UserWarning: registration of accessor <class 'gaiavision.model_space.model_space_manager.ModelSpaceManager'> under name 'ms_manager' for type <class 'pandas.core.frame.DataFrame'> is overriding a preexisting attribute with the same name.\n",
      "  @pd.api.extensions.register_dataframe_accessor(\"ms_manager\")\n"
     ]
    }
   ],
   "source": [
    "import sys\n",
    "sys.path.insert(0, '/home/ma-user/work/pengjunran/workspace/GAIA_workspace/gaiavision')\n",
    "sys.path.insert(0, '/home/ma-user/work/pengjunran/workspace/GAIA_workspace/gaiadet')\n",
    "sys.path.insert(0, '/home/ma-user/work/pengjunran/workspace/GAIA_workspace/mmdetection')\n",
    "\n",
    "from gaiadet.models import DynamicResNet"
   ]
  },
  {
   "cell_type": "code",
   "execution_count": 13,
   "metadata": {},
   "outputs": [
    {
     "ename": "NameError",
     "evalue": "name 'depth' is not defined",
     "output_type": "error",
     "traceback": [
      "\u001b[0;31m---------------------------------------------------------------------------\u001b[0m",
      "\u001b[0;31mNameError\u001b[0m                                 Traceback (most recent call last)",
      "\u001b[0;32m<ipython-input-13-85a7701587ca>\u001b[0m in \u001b[0;36m<module>\u001b[0;34m()\u001b[0m\n\u001b[0;32m----> 1\u001b[0;31m \u001b[0mdr\u001b[0m \u001b[0;34m=\u001b[0m \u001b[0mDynamicResNet\u001b[0m\u001b[0;34m(\u001b[0m\u001b[0min_channels\u001b[0m\u001b[0;34m=\u001b[0m\u001b[0;36m3\u001b[0m\u001b[0;34m,\u001b[0m \u001b[0mstem_width\u001b[0m\u001b[0;34m=\u001b[0m\u001b[0;36m64\u001b[0m\u001b[0;34m,\u001b[0m \u001b[0mbody_width\u001b[0m\u001b[0;34m=\u001b[0m\u001b[0;34m[\u001b[0m\u001b[0;36m32\u001b[0m\u001b[0;34m,\u001b[0m\u001b[0;36m32\u001b[0m\u001b[0;34m,\u001b[0m\u001b[0;36m32\u001b[0m\u001b[0;34m,\u001b[0m\u001b[0;36m32\u001b[0m\u001b[0;34m]\u001b[0m\u001b[0;34m,\u001b[0m \u001b[0mbody_depth\u001b[0m\u001b[0;34m=\u001b[0m\u001b[0;34m[\u001b[0m\u001b[0;36m2\u001b[0m\u001b[0;34m,\u001b[0m\u001b[0;36m2\u001b[0m\u001b[0;34m,\u001b[0m\u001b[0;36m4\u001b[0m\u001b[0;34m,\u001b[0m\u001b[0;36m2\u001b[0m\u001b[0;34m]\u001b[0m\u001b[0;34m)\u001b[0m\u001b[0;34m\u001b[0m\u001b[0m\n\u001b[0m",
      "\u001b[0;32m~/work/pengjunran/workspace/GAIA_workspace/gaiadet/gaiadet/models/backbones/dynamic_resnet.py\u001b[0m in \u001b[0;36m__init__\u001b[0;34m(self, in_channels, stem_width, body_width, body_depth, num_stages, strides, dilations, out_indices, style, deep_stem, avg_down, frozen_stages, frozen_layers, conv_cfg, norm_cfg, act_cfg, norm_eval, dcn, stage_with_dcn, plugins, with_cp, zero_init_residual)\u001b[0m\n\u001b[1;32m    150\u001b[0m                 \u001b[0minplanes\u001b[0m\u001b[0;34m=\u001b[0m\u001b[0mself\u001b[0m\u001b[0;34m.\u001b[0m\u001b[0minplanes\u001b[0m\u001b[0;34m,\u001b[0m\u001b[0;34m\u001b[0m\u001b[0m\n\u001b[1;32m    151\u001b[0m                 \u001b[0mplanes\u001b[0m\u001b[0;34m=\u001b[0m\u001b[0mplanes\u001b[0m\u001b[0;34m,\u001b[0m\u001b[0;34m\u001b[0m\u001b[0m\n\u001b[0;32m--> 152\u001b[0;31m                 \u001b[0mdepth\u001b[0m\u001b[0;34m=\u001b[0m\u001b[0mdepth\u001b[0m\u001b[0;34m,\u001b[0m\u001b[0;34m\u001b[0m\u001b[0m\n\u001b[0m\u001b[1;32m    153\u001b[0m                 \u001b[0mstride\u001b[0m\u001b[0;34m=\u001b[0m\u001b[0mstride\u001b[0m\u001b[0;34m,\u001b[0m\u001b[0;34m\u001b[0m\u001b[0m\n\u001b[1;32m    154\u001b[0m                 \u001b[0mdilation\u001b[0m\u001b[0;34m=\u001b[0m\u001b[0mdilation\u001b[0m\u001b[0;34m,\u001b[0m\u001b[0;34m\u001b[0m\u001b[0m\n",
      "\u001b[0;31mNameError\u001b[0m: name 'depth' is not defined"
     ]
    }
   ],
   "source": [
    "dr = DynamicResNet(in_channels=3, stem_width=64, body_width=[32,32,32,32], body_depth=[2,2,4,2])"
   ]
  },
  {
   "cell_type": "code",
   "execution_count": 17,
   "metadata": {},
   "outputs": [],
   "source": [
    "import pandas as pd\n",
    "a = pd.DataFrame({'a': (1,2), 'b': (2,3)})"
   ]
  },
  {
   "cell_type": "code",
   "execution_count": 21,
   "metadata": {},
   "outputs": [],
   "source": [
    "class A():\n",
    "    def __setattr__(self, name, value):\n",
    "        self.__dict__[name] = value\n",
    "        print(f'{name}:{value}')\n"
   ]
  },
  {
   "cell_type": "code",
   "execution_count": 27,
   "metadata": {},
   "outputs": [
    {
     "name": "stdout",
     "output_type": "stream",
     "text": [
      "[Parameter containing:\n",
      "tensor([[0.3364, 0.6875],\n",
      "        [0.6591, 0.5183],\n",
      "        [0.1983, 0.0098]], requires_grad=True), Parameter containing:\n",
      "tensor([ 0.7041, -0.3943,  0.4789], requires_grad=True), Parameter containing:\n",
      "tensor([[-0.2075,  0.5752,  0.4051],\n",
      "        [ 0.4945,  0.0029,  0.5199],\n",
      "        [ 0.5592, -0.1572,  0.0059],\n",
      "        [-0.0060,  0.0393,  0.4128]], requires_grad=True), Parameter containing:\n",
      "tensor([-0.5284, -0.1626,  0.2612, -0.4031], requires_grad=True)]\n",
      "OrderedDict()\n",
      "OrderedDict([('a', Linear(in_features=2, out_features=3, bias=True)), ('b', Linear(in_features=3, out_features=4, bias=True))])\n"
     ]
    }
   ],
   "source": [
    "import torch\n",
    "import torch.nn as nn\n",
    "\n",
    "class A(nn.Module):\n",
    "    def __init__(self):\n",
    "        super().__init__()\n",
    "        self.a = nn.Linear(2,3)\n",
    "        self.b = nn.Linear(3,4)\n",
    "        \n",
    "    def forward(self, x):\n",
    "        return self.b(self.a(x))\n",
    "    \n",
    "a = A()\n",
    "print(list(a.parameters()))\n",
    "print(a._parameters)\n",
    "print(a._modules)"
   ]
  },
  {
   "cell_type": "code",
   "execution_count": 28,
   "metadata": {},
   "outputs": [],
   "source": [
    "a = set([1,2])\n",
    "a."
   ]
  }
 ],
 "metadata": {
  "kernelspec": {
   "display_name": "TensorFlow-2.1.0",
   "language": "python",
   "name": "tensorflow-2.1.0"
  },
  "language_info": {
   "codemirror_mode": {
    "name": "ipython",
    "version": 3
   },
   "file_extension": ".py",
   "mimetype": "text/x-python",
   "name": "python",
   "nbconvert_exporter": "python",
   "pygments_lexer": "ipython3",
   "version": "3.6.4"
  }
 },
 "nbformat": 4,
 "nbformat_minor": 4
}
